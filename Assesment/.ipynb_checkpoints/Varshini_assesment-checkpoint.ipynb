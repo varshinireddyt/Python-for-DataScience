{
 "cells": [
  {
   "cell_type": "markdown",
   "metadata": {},
   "source": [
    "####  Name: Varshini Thatiparthi\n",
    "#### Mail: varshini.thatiparthi@gmail.com"
   ]
  },
  {
   "cell_type": "code",
   "execution_count": 146,
   "metadata": {},
   "outputs": [],
   "source": [
    "import numpy as np\n",
    "import pandas as pd\n",
    "import statistics\n",
    "import matplotlib.pyplot as plt \n",
    "import matplotlib\n",
    "from matplotlib import rcParams\n",
    "from scipy import stats\n",
    "from sklearn.metrics import confusion_matrix\n",
    "import seaborn as sb"
   ]
  },
  {
   "cell_type": "code",
   "execution_count": 116,
   "metadata": {},
   "outputs": [],
   "source": [
    "df = pd.read_csv('screening_exercise_orders_v201810.csv')"
   ]
  },
  {
   "cell_type": "code",
   "execution_count": 117,
   "metadata": {},
   "outputs": [
    {
     "data": {
      "text/html": [
       "<div>\n",
       "<style scoped>\n",
       "    .dataframe tbody tr th:only-of-type {\n",
       "        vertical-align: middle;\n",
       "    }\n",
       "\n",
       "    .dataframe tbody tr th {\n",
       "        vertical-align: top;\n",
       "    }\n",
       "\n",
       "    .dataframe thead th {\n",
       "        text-align: right;\n",
       "    }\n",
       "</style>\n",
       "<table border=\"1\" class=\"dataframe\">\n",
       "  <thead>\n",
       "    <tr style=\"text-align: right;\">\n",
       "      <th></th>\n",
       "      <th>customer_id</th>\n",
       "      <th>gender</th>\n",
       "      <th>date</th>\n",
       "      <th>value</th>\n",
       "      <th>predicted_gender</th>\n",
       "    </tr>\n",
       "  </thead>\n",
       "  <tbody>\n",
       "    <tr>\n",
       "      <td>0</td>\n",
       "      <td>1000</td>\n",
       "      <td>0</td>\n",
       "      <td>2017-01-01 00:11:31</td>\n",
       "      <td>198.50</td>\n",
       "      <td>1</td>\n",
       "    </tr>\n",
       "    <tr>\n",
       "      <td>1</td>\n",
       "      <td>1001</td>\n",
       "      <td>0</td>\n",
       "      <td>2017-01-01 00:29:56</td>\n",
       "      <td>338.00</td>\n",
       "      <td>1</td>\n",
       "    </tr>\n",
       "    <tr>\n",
       "      <td>2</td>\n",
       "      <td>1002</td>\n",
       "      <td>1</td>\n",
       "      <td>2017-01-01 01:30:31</td>\n",
       "      <td>733.00</td>\n",
       "      <td>1</td>\n",
       "    </tr>\n",
       "    <tr>\n",
       "      <td>3</td>\n",
       "      <td>1003</td>\n",
       "      <td>1</td>\n",
       "      <td>2017-01-01 01:34:22</td>\n",
       "      <td>772.00</td>\n",
       "      <td>1</td>\n",
       "    </tr>\n",
       "    <tr>\n",
       "      <td>4</td>\n",
       "      <td>1004</td>\n",
       "      <td>0</td>\n",
       "      <td>2017-01-01 03:11:54</td>\n",
       "      <td>508.00</td>\n",
       "      <td>1</td>\n",
       "    </tr>\n",
       "    <tr>\n",
       "      <td>...</td>\n",
       "      <td>...</td>\n",
       "      <td>...</td>\n",
       "      <td>...</td>\n",
       "      <td>...</td>\n",
       "      <td>...</td>\n",
       "    </tr>\n",
       "    <tr>\n",
       "      <td>13466</td>\n",
       "      <td>9810</td>\n",
       "      <td>1</td>\n",
       "      <td>2017-12-31 22:16:20</td>\n",
       "      <td>794.44</td>\n",
       "      <td>0</td>\n",
       "    </tr>\n",
       "    <tr>\n",
       "      <td>13467</td>\n",
       "      <td>9811</td>\n",
       "      <td>1</td>\n",
       "      <td>2017-12-31 22:24:06</td>\n",
       "      <td>148.60</td>\n",
       "      <td>0</td>\n",
       "    </tr>\n",
       "    <tr>\n",
       "      <td>13468</td>\n",
       "      <td>9812</td>\n",
       "      <td>0</td>\n",
       "      <td>2017-12-31 23:01:10</td>\n",
       "      <td>153.00</td>\n",
       "      <td>1</td>\n",
       "    </tr>\n",
       "    <tr>\n",
       "      <td>13469</td>\n",
       "      <td>9813</td>\n",
       "      <td>0</td>\n",
       "      <td>2017-12-31 23:11:02</td>\n",
       "      <td>534.00</td>\n",
       "      <td>1</td>\n",
       "    </tr>\n",
       "    <tr>\n",
       "      <td>13470</td>\n",
       "      <td>8658</td>\n",
       "      <td>0</td>\n",
       "      <td>2017-12-31 23:35:09</td>\n",
       "      <td>306.60</td>\n",
       "      <td>1</td>\n",
       "    </tr>\n",
       "  </tbody>\n",
       "</table>\n",
       "<p>13471 rows × 5 columns</p>\n",
       "</div>"
      ],
      "text/plain": [
       "       customer_id  gender                 date   value  predicted_gender\n",
       "0             1000       0  2017-01-01 00:11:31  198.50                 1\n",
       "1             1001       0  2017-01-01 00:29:56  338.00                 1\n",
       "2             1002       1  2017-01-01 01:30:31  733.00                 1\n",
       "3             1003       1  2017-01-01 01:34:22  772.00                 1\n",
       "4             1004       0  2017-01-01 03:11:54  508.00                 1\n",
       "...            ...     ...                  ...     ...               ...\n",
       "13466         9810       1  2017-12-31 22:16:20  794.44                 0\n",
       "13467         9811       1  2017-12-31 22:24:06  148.60                 0\n",
       "13468         9812       0  2017-12-31 23:01:10  153.00                 1\n",
       "13469         9813       0  2017-12-31 23:11:02  534.00                 1\n",
       "13470         8658       0  2017-12-31 23:35:09  306.60                 1\n",
       "\n",
       "[13471 rows x 5 columns]"
      ]
     },
     "execution_count": 117,
     "metadata": {},
     "output_type": "execute_result"
    }
   ],
   "source": [
    "df"
   ]
  },
  {
   "cell_type": "markdown",
   "metadata": {},
   "source": [
    "A) Assemble a dataframe with one row per customer and the following columns:\n",
    "\n",
    "* customer_id\n",
    "* gender\n",
    "* most_recent_order_date\n",
    "* order_count (number of orders placed by this customer)\n",
    "\n",
    "Sort the dataframe by customer_id ascending and display the first 10 rows."
   ]
  },
  {
   "cell_type": "code",
   "execution_count": 118,
   "metadata": {},
   "outputs": [
    {
     "data": {
      "text/plain": [
       "customer_id  gender\n",
       "1000         0         2017-01-01 00:11:31\n",
       "1001         0         2017-01-01 00:29:56\n",
       "1002         1         2017-02-19 21:35:31\n",
       "1003         1         2017-04-26 02:37:20\n",
       "1004         0         2017-01-01 03:11:54\n",
       "                              ...         \n",
       "9809         1         2017-12-31 21:39:33\n",
       "9810         1         2017-12-31 22:16:20\n",
       "9811         1         2017-12-31 22:24:06\n",
       "9812         0         2017-12-31 23:01:10\n",
       "9813         0         2017-12-31 23:11:02\n",
       "Name: date, Length: 8814, dtype: object"
      ]
     },
     "execution_count": 118,
     "metadata": {},
     "output_type": "execute_result"
    }
   ],
   "source": [
    "\n",
    "# computing most_recent_order_date\n",
    "mostrecent_order = df.groupby(['customer_id','gender'],sort=False)['date'].max()\n",
    "mostrecent_order\n"
   ]
  },
  {
   "cell_type": "code",
   "execution_count": 119,
   "metadata": {},
   "outputs": [],
   "source": [
    "#number of orders placed by the customers\n",
    "order_count = df['customer_id'].value_counts()\n"
   ]
  },
  {
   "cell_type": "code",
   "execution_count": 120,
   "metadata": {},
   "outputs": [],
   "source": [
    "#converting into dataframe\n",
    "mostrecent_order_df = mostrecent_order.to_frame().reset_index()\n",
    "order_count_df = order_count.to_frame().reset_index()"
   ]
  },
  {
   "cell_type": "code",
   "execution_count": 121,
   "metadata": {},
   "outputs": [],
   "source": [
    "#renaming column names\n",
    "mostrecent_order_df.columns = ['customer_id','gender','most_recent_order_date']\n",
    "order_count_df.columns = ['customer_id','order_count']"
   ]
  },
  {
   "cell_type": "code",
   "execution_count": 122,
   "metadata": {},
   "outputs": [],
   "source": [
    "#joining the dataframes with customer_id\n",
    "dataframe = mostrecent_order_df.set_index('customer_id').join(order_count_df.set_index('customer_id'))"
   ]
  },
  {
   "cell_type": "code",
   "execution_count": 123,
   "metadata": {},
   "outputs": [
    {
     "name": "stdout",
     "output_type": "stream",
     "text": [
      "             gender most_recent_order_date  order_count\n",
      "customer_id                                            \n",
      "1000              0    2017-01-01 00:11:31            1\n",
      "1001              0    2017-01-01 00:29:56            1\n",
      "1002              1    2017-02-19 21:35:31            3\n",
      "1003              1    2017-04-26 02:37:20            4\n",
      "1004              0    2017-01-01 03:11:54            1\n",
      "1005              1    2017-12-16 01:39:27            2\n",
      "1006              1    2017-05-09 15:27:20            3\n",
      "1007              0    2017-01-01 15:59:50            1\n",
      "1008              0    2017-12-17 05:47:48            3\n",
      "1009              1    2017-01-01 19:27:17            1\n"
     ]
    }
   ],
   "source": [
    "print(dataframe.head(10))"
   ]
  },
  {
   "cell_type": "markdown",
   "metadata": {},
   "source": [
    "B) Plot the count of orders per week for the store."
   ]
  },
  {
   "cell_type": "code",
   "execution_count": 124,
   "metadata": {},
   "outputs": [],
   "source": [
    "# %matplotlib inline\n",
    "# rcParams['figure.figsize'] = 20,10"
   ]
  },
  {
   "cell_type": "code",
   "execution_count": 125,
   "metadata": {},
   "outputs": [],
   "source": [
    "#converting date to datetime \n",
    "df['date'] = pd.to_datetime(df['date'])\n",
    "#converting date to number of weeks in a year\n",
    "df['perWeek'] = df.date.dt.strftime('%Y-%U')\n"
   ]
  },
  {
   "cell_type": "code",
   "execution_count": 126,
   "metadata": {},
   "outputs": [
    {
     "data": {
      "text/plain": [
       "perWeek\n",
       "2017-01    175\n",
       "2017-02    259\n",
       "2017-03    356\n",
       "2017-04    287\n",
       "2017-05    209\n",
       "2017-06    198\n",
       "2017-07    233\n",
       "2017-08    314\n",
       "2017-09    271\n",
       "2017-10    319\n",
       "2017-11    272\n",
       "2017-12    237\n",
       "2017-13    226\n",
       "2017-14    337\n",
       "2017-15    305\n",
       "2017-16    228\n",
       "2017-17    209\n",
       "2017-18    251\n",
       "2017-19    341\n",
       "2017-20    554\n",
       "2017-21    392\n",
       "2017-22    203\n",
       "2017-23    227\n",
       "2017-24    311\n",
       "2017-25    264\n",
       "2017-26    359\n",
       "2017-27    319\n",
       "2017-28    221\n",
       "2017-29    245\n",
       "2017-30    192\n",
       "2017-31    184\n",
       "2017-32    185\n",
       "2017-33    186\n",
       "2017-34    283\n",
       "2017-35    221\n",
       "2017-36    210\n",
       "2017-37    239\n",
       "2017-38    172\n",
       "2017-39    200\n",
       "2017-40    284\n",
       "2017-41    413\n",
       "2017-42    175\n",
       "2017-43    150\n",
       "2017-44    159\n",
       "2017-45    175\n",
       "2017-46    183\n",
       "2017-47    341\n",
       "2017-48    395\n",
       "2017-49    226\n",
       "2017-50    287\n",
       "2017-51    230\n",
       "2017-52    224\n",
       "2017-53     35\n",
       "Name: value, dtype: int64"
      ]
     },
     "execution_count": 126,
     "metadata": {},
     "output_type": "execute_result"
    }
   ],
   "source": [
    "#count of orders per week\n",
    "count_order_perweek = df.groupby(['perWeek'])['value'].count()\n",
    "count_order_perweek "
   ]
  },
  {
   "cell_type": "code",
   "execution_count": 141,
   "metadata": {},
   "outputs": [
    {
     "data": {
      "text/plain": [
       "perWeek\n",
       "2017-01    175\n",
       "2017-02    259\n",
       "2017-03    356\n",
       "2017-04    287\n",
       "2017-05    209\n",
       "2017-06    198\n",
       "2017-07    233\n",
       "2017-08    314\n",
       "2017-09    271\n",
       "2017-10    319\n",
       "2017-11    272\n",
       "2017-12    237\n",
       "2017-13    226\n",
       "2017-14    337\n",
       "2017-15    305\n",
       "2017-16    228\n",
       "2017-17    209\n",
       "2017-18    251\n",
       "2017-19    341\n",
       "2017-20    554\n",
       "2017-21    392\n",
       "2017-22    203\n",
       "2017-23    227\n",
       "2017-24    311\n",
       "2017-25    264\n",
       "2017-26    359\n",
       "2017-27    319\n",
       "2017-28    221\n",
       "2017-29    245\n",
       "2017-30    192\n",
       "2017-31    184\n",
       "2017-32    185\n",
       "2017-33    186\n",
       "2017-34    283\n",
       "2017-35    221\n",
       "2017-36    210\n",
       "2017-37    239\n",
       "2017-38    172\n",
       "2017-39    200\n",
       "2017-40    284\n",
       "2017-41    413\n",
       "2017-42    175\n",
       "2017-43    150\n",
       "2017-44    159\n",
       "2017-45    175\n",
       "2017-46    183\n",
       "2017-47    341\n",
       "2017-48    395\n",
       "2017-49    226\n",
       "2017-50    287\n",
       "2017-51    230\n",
       "2017-52    224\n",
       "2017-53     35\n",
       "Name: value, dtype: int64"
      ]
     },
     "execution_count": 141,
     "metadata": {},
     "output_type": "execute_result"
    }
   ],
   "source": [
    "count_order_perweek.columns = ['Week_Number', 'Order count']\n",
    "count_order_perweek"
   ]
  },
  {
   "cell_type": "code",
   "execution_count": 143,
   "metadata": {},
   "outputs": [
    {
     "data": {
      "image/png": "[encoded data removed]",
      "text/plain": [
       "<Figure size 1440x720 with 1 Axes>"
      ]
     },
     "metadata": {},
     "output_type": "display_data"
    }
   ],
   "source": [
    "plt = count_order_perweek.plot.bar()"
   ]
  },
  {
   "cell_type": "markdown",
   "metadata": {},
   "source": [
    "C) Compute the mean order value for gender 0 and for gender 1. Do you think the difference is significant? Justify your choice of method."
   ]
  },
  {
   "cell_type": "code",
   "execution_count": 129,
   "metadata": {},
   "outputs": [
    {
     "name": "stdout",
     "output_type": "stream",
     "text": [
      "mean order value for gender 0:  363.89\n"
     ]
    }
   ],
   "source": [
    "gender_zero = df.groupby('gender')['value'].mean()[0]\n",
    "print(\"mean order value for gender 0: \", str(round(gender_zero,2)))"
   ]
  },
  {
   "cell_type": "code",
   "execution_count": 130,
   "metadata": {},
   "outputs": [
    {
     "name": "stdout",
     "output_type": "stream",
     "text": [
      "mean order value for gender 1:  350.71\n"
     ]
    }
   ],
   "source": [
    "gender_one = df.groupby('gender')['value'].mean()[1]\n",
    "print(\"mean order value for gender 1: \", str(round(gender_one,2)))"
   ]
  },
  {
   "cell_type": "code",
   "execution_count": 131,
   "metadata": {},
   "outputs": [],
   "source": [
    "#calucating the sample size \n",
    "sample_size = df['customer_id'].count()/2\n",
    "#calculating variance for gender 0 and gender 1\n",
    "gender_zero_variance = df.groupby('gender')['value'].var(ddof=1)[0]\n",
    "gender_one_variance = df.groupby('gender')['value'].var(ddof=1)[1]\n",
    "#calculating standard deviation\n",
    "std_dev = np.sqrt((gender_zero_variance + gender_one_variance)/2)"
   ]
  },
  {
   "cell_type": "code",
   "execution_count": 132,
   "metadata": {},
   "outputs": [
    {
     "name": "stdout",
     "output_type": "stream",
     "text": [
      "t:  1.98\n"
     ]
    }
   ],
   "source": [
    "#t-test\n",
    "t_test = (gender_zero - gender_one)/(std_dev * np.sqrt(2/sample_size))\n",
    "print(\"t: \", str(round(t_test,2)))\n"
   ]
  },
  {
   "cell_type": "code",
   "execution_count": 133,
   "metadata": {},
   "outputs": [
    {
     "name": "stdout",
     "output_type": "stream",
     "text": [
      "p value:  0.05\n"
     ]
    }
   ],
   "source": [
    "#calucalting degree of freedom\n",
    "dof = 2 * sample_size - 2\n",
    "#p-value\n",
    "p_value = 1-stats.t.cdf(t_test,df=dof)\n",
    "p = round(2*p_value,2)\n",
    "print(\"p value: \", str(p))"
   ]
  },
  {
   "cell_type": "code",
   "execution_count": 134,
   "metadata": {},
   "outputs": [
    {
     "name": "stdout",
     "output_type": "stream",
     "text": [
      "p value:  0.1 Accept the null hypothesis\n"
     ]
    }
   ],
   "source": [
    "if(p < 0.05):\n",
    "    print(\"p value: \", str(round(2*p,2)),\"we can reject null hyposthesis and are significant\")\n",
    "else:\n",
    "    print(\"p value: \", str(round(2*p,2)),\"Accept the null hypothesis\")"
   ]
  },
  {
   "cell_type": "markdown",
   "metadata": {},
   "source": [
    "D) Generate a confusion matrix for the gender predictions of customers in this dataset. You can assume that there is only one gender prediction for each customer. What does the confusion matrix tell you about the quality of the predictions?"
   ]
  },
  {
   "cell_type": "code",
   "execution_count": 150,
   "metadata": {},
   "outputs": [
    {
     "data": {
      "text/plain": [
       "array([[3349, 3410],\n",
       "       [1463, 5249]])"
      ]
     },
     "execution_count": 150,
     "metadata": {},
     "output_type": "execute_result"
    }
   ],
   "source": [
    "y = df['gender']\n",
    "y_pred = df['predicted_gender']\n",
    "cm = confusion_matrix(y,y_pred)\n",
    "cm"
   ]
  },
  {
   "cell_type": "code",
   "execution_count": 164,
   "metadata": {},
   "outputs": [
    {
     "data": {
      "text/plain": [
       "(2.0, 0.0)"
      ]
     },
     "execution_count": 164,
     "metadata": {},
     "output_type": "execute_result"
    },
    {
     "data": {
      "image/png": "[encoded data removed]",
      "text/plain": [
       "<Figure size 720x360 with 2 Axes>"
      ]
     },
     "metadata": {},
     "output_type": "display_data"
    }
   ],
   "source": [
    "# import seaborn as sns\n",
    "# sb.set(style=\"darkgrid\")\n",
    "# plt.figure(figsize=(1))\n",
    "# ax= plt.subplot()\n",
    "# sns.heatmap(cm, annot=True, fmt='d', ax = ax)\n",
    "\n",
    "import seaborn as sns\n",
    "plt.figure(figsize=(10,5))\n",
    "ax = sns.heatmap(cm, annot=True, fmt='d') #notation: \"annot\" not \"annote\"\n",
    "bottom, top = ax.get_ylim()\n",
    "ax.set_ylim(bottom + 0.5, top - 0.5)"
   ]
  },
  {
   "cell_type": "code",
   "execution_count": 166,
   "metadata": {},
   "outputs": [
    {
     "data": {
      "text/plain": [
       "(2.0, 0.0)"
      ]
     },
     "execution_count": 166,
     "metadata": {},
     "output_type": "execute_result"
    },
    {
     "data": {
      "image/png": "[encoded data removed]",
      "text/plain": [
       "<Figure size 720x360 with 2 Axes>"
      ]
     },
     "metadata": {},
     "output_type": "display_data"
    }
   ],
   "source": [
    "plt.figure(figsize=(10,5))\n",
    "ax=sb.heatmap(cf_matrix/np.sum(cf_matrix), annot=True, \n",
    "            fmt='.2%', cmap='Blues')\n",
    "bottom, top = ax.get_ylim()\n",
    "ax.set_ylim(bottom + 0.5, top - 0.5)"
   ]
  },
  {
   "cell_type": "markdown",
   "metadata": {},
   "source": [
    "We have high number of false positives. The predicitons are able to correctly predict the gender with 63.8% accuracy. "
   ]
  },
  {
   "cell_type": "markdown",
   "metadata": {},
   "source": [
    "E) Describe one of your favorite tools or techniques and give a small example of how it's helped you solve a problem. Limit your answer to one paragraph, and please be specific."
   ]
  },
  {
   "cell_type": "markdown",
   "metadata": {},
   "source": [
    "One of my faviourite technique is Random search for hyperparameter optimization. It is implemented in scikit learn. \n",
    "This algorithm is very useful in deep learning, where the number of parameters are huge.The basic idea is that not all parameters are equally important to tune in order to get good results (i.e. the optimal solution lies in a low-dimensional submanifold of the search space), so we should see how to focus on that region of interest"
   ]
  },
  {
   "cell_type": "code",
   "execution_count": null,
   "metadata": {},
   "outputs": [],
   "source": []
  }
 ],
 "metadata": {
  "kernelspec": {
   "display_name": "Python 3",
   "language": "python",
   "name": "python3"
  },
  "language_info": {
   "codemirror_mode": {
    "name": "ipython",
    "version": 3
   },
   "file_extension": ".py",
   "mimetype": "text/x-python",
   "name": "python",
   "nbconvert_exporter": "python",
   "pygments_lexer": "ipython3",
   "version": "3.7.4"
  }
 },
 "nbformat": 4,
 "nbformat_minor": 2
}
