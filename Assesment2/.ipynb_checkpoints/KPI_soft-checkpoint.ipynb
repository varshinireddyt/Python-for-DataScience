{
 "cells": [
  {
   "cell_type": "code",
   "execution_count": 556,
   "metadata": {},
   "outputs": [],
   "source": [
    "import pandas as pd\n",
    "import numpy as np\n",
    "\n",
    "# Data Visulaization\n",
    "import seaborn as sns\n",
    "import matplotlib.pyplot as plt\n",
    "\n",
    "# Metrics\n",
    "from sklearn.metrics import f1_score\n",
    "from sklearn.metrics import accuracy_score\n",
    "\n",
    "# Imbalancing\n",
    "from sklearn.utils import resample  "
   ]
  },
  {
   "cell_type": "code",
   "execution_count": 557,
   "metadata": {
    "scrolled": true
   },
   "outputs": [
    {
     "data": {
      "text/html": [
       "<div>\n",
       "<style scoped>\n",
       "    .dataframe tbody tr th:only-of-type {\n",
       "        vertical-align: middle;\n",
       "    }\n",
       "\n",
       "    .dataframe tbody tr th {\n",
       "        vertical-align: top;\n",
       "    }\n",
       "\n",
       "    .dataframe thead th {\n",
       "        text-align: right;\n",
       "    }\n",
       "</style>\n",
       "<table border=\"1\" class=\"dataframe\">\n",
       "  <thead>\n",
       "    <tr style=\"text-align: right;\">\n",
       "      <th></th>\n",
       "      <th>Prospect_ID</th>\n",
       "      <th>Campaign_ID</th>\n",
       "      <th>Company</th>\n",
       "      <th>Job_Title</th>\n",
       "      <th>Score</th>\n",
       "      <th>Source</th>\n",
       "      <th>Lead_Status</th>\n",
       "    </tr>\n",
       "  </thead>\n",
       "  <tbody>\n",
       "    <tr>\n",
       "      <td>0</td>\n",
       "      <td>18258198</td>\n",
       "      <td>2013</td>\n",
       "      <td>Brock Tech</td>\n",
       "      <td>Chief of Digital Marketing</td>\n",
       "      <td>65</td>\n",
       "      <td>Website</td>\n",
       "      <td>Open</td>\n",
       "    </tr>\n",
       "    <tr>\n",
       "      <td>1</td>\n",
       "      <td>18441354</td>\n",
       "      <td>2005</td>\n",
       "      <td>Myxable Co.</td>\n",
       "      <td>Financial Analyst</td>\n",
       "      <td>66</td>\n",
       "      <td>Twitter</td>\n",
       "      <td>Open</td>\n",
       "    </tr>\n",
       "    <tr>\n",
       "      <td>2</td>\n",
       "      <td>18642577</td>\n",
       "      <td>2009</td>\n",
       "      <td>Polymeris</td>\n",
       "      <td>Procurement Manager</td>\n",
       "      <td>60</td>\n",
       "      <td>Website</td>\n",
       "      <td>Qualified</td>\n",
       "    </tr>\n",
       "    <tr>\n",
       "      <td>3</td>\n",
       "      <td>18664142</td>\n",
       "      <td>2009</td>\n",
       "      <td>HeidieX</td>\n",
       "      <td>Procurement Manager</td>\n",
       "      <td>65</td>\n",
       "      <td>Instagram</td>\n",
       "      <td>Open</td>\n",
       "    </tr>\n",
       "    <tr>\n",
       "      <td>4</td>\n",
       "      <td>18344212</td>\n",
       "      <td>2013</td>\n",
       "      <td>Myxable Co.</td>\n",
       "      <td>Senior Director of B2B Marketing</td>\n",
       "      <td>72</td>\n",
       "      <td>Instagram</td>\n",
       "      <td>Closed</td>\n",
       "    </tr>\n",
       "    <tr>\n",
       "      <td>5</td>\n",
       "      <td>18163974</td>\n",
       "      <td>2005</td>\n",
       "      <td>Gooyer</td>\n",
       "      <td>Contingent Worker</td>\n",
       "      <td>95</td>\n",
       "      <td>Website</td>\n",
       "      <td>Contacting</td>\n",
       "    </tr>\n",
       "    <tr>\n",
       "      <td>6</td>\n",
       "      <td>18426335</td>\n",
       "      <td>2005</td>\n",
       "      <td>Brock Tech</td>\n",
       "      <td>Procurement Manager</td>\n",
       "      <td>96</td>\n",
       "      <td>Website</td>\n",
       "      <td>Qualified</td>\n",
       "    </tr>\n",
       "    <tr>\n",
       "      <td>7</td>\n",
       "      <td>18700999</td>\n",
       "      <td>2000</td>\n",
       "      <td>WestLand's Incorporated</td>\n",
       "      <td>CEO</td>\n",
       "      <td>66</td>\n",
       "      <td>Website</td>\n",
       "      <td>Closed</td>\n",
       "    </tr>\n",
       "    <tr>\n",
       "      <td>8</td>\n",
       "      <td>18639262</td>\n",
       "      <td>2019</td>\n",
       "      <td>Marxel</td>\n",
       "      <td>VP of Daily Operations</td>\n",
       "      <td>50</td>\n",
       "      <td>Facebook</td>\n",
       "      <td>Closed</td>\n",
       "    </tr>\n",
       "    <tr>\n",
       "      <td>9</td>\n",
       "      <td>18699388</td>\n",
       "      <td>2000</td>\n",
       "      <td>WestLand's Incorporated</td>\n",
       "      <td>Financial Analyst</td>\n",
       "      <td>92</td>\n",
       "      <td>Website</td>\n",
       "      <td>Closed</td>\n",
       "    </tr>\n",
       "  </tbody>\n",
       "</table>\n",
       "</div>"
      ],
      "text/plain": [
       "   Prospect_ID  Campaign_ID                  Company  \\\n",
       "0     18258198         2013               Brock Tech   \n",
       "1     18441354         2005              Myxable Co.   \n",
       "2     18642577         2009                Polymeris   \n",
       "3     18664142         2009                  HeidieX   \n",
       "4     18344212         2013              Myxable Co.   \n",
       "5     18163974         2005                   Gooyer   \n",
       "6     18426335         2005               Brock Tech   \n",
       "7     18700999         2000  WestLand's Incorporated   \n",
       "8     18639262         2019                   Marxel   \n",
       "9     18699388         2000  WestLand's Incorporated   \n",
       "\n",
       "                          Job_Title  Score     Source Lead_Status  \n",
       "0        Chief of Digital Marketing     65    Website        Open  \n",
       "1                 Financial Analyst     66    Twitter        Open  \n",
       "2               Procurement Manager     60    Website   Qualified  \n",
       "3               Procurement Manager     65  Instagram        Open  \n",
       "4  Senior Director of B2B Marketing     72  Instagram      Closed  \n",
       "5                 Contingent Worker     95    Website  Contacting  \n",
       "6               Procurement Manager     96    Website   Qualified  \n",
       "7                               CEO     66    Website      Closed  \n",
       "8            VP of Daily Operations     50   Facebook      Closed  \n",
       "9                 Financial Analyst     92    Website      Closed  "
      ]
     },
     "execution_count": 557,
     "metadata": {},
     "output_type": "execute_result"
    }
   ],
   "source": [
    "# Prospect DataFrame\n",
    "prospect_df = pd.read_csv('Prospect_DS.csv')\n",
    "prospect_df.head(10)"
   ]
  },
  {
   "cell_type": "code",
   "execution_count": 558,
   "metadata": {},
   "outputs": [
    {
     "data": {
      "text/html": [
       "<div>\n",
       "<style scoped>\n",
       "    .dataframe tbody tr th:only-of-type {\n",
       "        vertical-align: middle;\n",
       "    }\n",
       "\n",
       "    .dataframe tbody tr th {\n",
       "        vertical-align: top;\n",
       "    }\n",
       "\n",
       "    .dataframe thead th {\n",
       "        text-align: right;\n",
       "    }\n",
       "</style>\n",
       "<table border=\"1\" class=\"dataframe\">\n",
       "  <thead>\n",
       "    <tr style=\"text-align: right;\">\n",
       "      <th></th>\n",
       "      <th>ID</th>\n",
       "      <th>Prospect_ID</th>\n",
       "      <th>Campaign_ID</th>\n",
       "      <th>Type</th>\n",
       "      <th>Activity_Name</th>\n",
       "      <th>Activity_Details</th>\n",
       "    </tr>\n",
       "  </thead>\n",
       "  <tbody>\n",
       "    <tr>\n",
       "      <td>0</td>\n",
       "      <td>4165912938</td>\n",
       "      <td>18699388</td>\n",
       "      <td>2001</td>\n",
       "      <td>Open</td>\n",
       "      <td>Email</td>\n",
       "      <td>Register for this new deal</td>\n",
       "    </tr>\n",
       "    <tr>\n",
       "      <td>1</td>\n",
       "      <td>7840461777</td>\n",
       "      <td>18247652</td>\n",
       "      <td>2016</td>\n",
       "      <td>Open</td>\n",
       "      <td>Email</td>\n",
       "      <td>Three Keys to your success</td>\n",
       "    </tr>\n",
       "    <tr>\n",
       "      <td>2</td>\n",
       "      <td>7547436225</td>\n",
       "      <td>18280877</td>\n",
       "      <td>2001</td>\n",
       "      <td>Open</td>\n",
       "      <td>Email</td>\n",
       "      <td>Register for this new deal</td>\n",
       "    </tr>\n",
       "    <tr>\n",
       "      <td>3</td>\n",
       "      <td>2255817798</td>\n",
       "      <td>18858552</td>\n",
       "      <td>2013</td>\n",
       "      <td>Open</td>\n",
       "      <td>Email</td>\n",
       "      <td>Three Keys to your success</td>\n",
       "    </tr>\n",
       "    <tr>\n",
       "      <td>4</td>\n",
       "      <td>8032011595</td>\n",
       "      <td>18686014</td>\n",
       "      <td>2000</td>\n",
       "      <td>Open</td>\n",
       "      <td>Email</td>\n",
       "      <td>Monthly overview</td>\n",
       "    </tr>\n",
       "    <tr>\n",
       "      <td>5</td>\n",
       "      <td>5804784116</td>\n",
       "      <td>18788746</td>\n",
       "      <td>2016</td>\n",
       "      <td>Open</td>\n",
       "      <td>Email</td>\n",
       "      <td>Three Keys to your success</td>\n",
       "    </tr>\n",
       "    <tr>\n",
       "      <td>6</td>\n",
       "      <td>7702061118</td>\n",
       "      <td>18344334</td>\n",
       "      <td>2013</td>\n",
       "      <td>Open</td>\n",
       "      <td>Email</td>\n",
       "      <td>Register for this new deal</td>\n",
       "    </tr>\n",
       "    <tr>\n",
       "      <td>7</td>\n",
       "      <td>1181671472</td>\n",
       "      <td>18805954</td>\n",
       "      <td>2019</td>\n",
       "      <td>Open</td>\n",
       "      <td>Email</td>\n",
       "      <td>Monthly overview</td>\n",
       "    </tr>\n",
       "    <tr>\n",
       "      <td>8</td>\n",
       "      <td>7028937193</td>\n",
       "      <td>18279824</td>\n",
       "      <td>2013</td>\n",
       "      <td>Open</td>\n",
       "      <td>Email</td>\n",
       "      <td>Three Keys to your success</td>\n",
       "    </tr>\n",
       "    <tr>\n",
       "      <td>9</td>\n",
       "      <td>5385033801</td>\n",
       "      <td>18487695</td>\n",
       "      <td>2000</td>\n",
       "      <td>Open</td>\n",
       "      <td>Email</td>\n",
       "      <td>Three Keys to your success</td>\n",
       "    </tr>\n",
       "  </tbody>\n",
       "</table>\n",
       "</div>"
      ],
      "text/plain": [
       "           ID  Prospect_ID  Campaign_ID  Type Activity_Name  \\\n",
       "0  4165912938     18699388         2001  Open         Email   \n",
       "1  7840461777     18247652         2016  Open         Email   \n",
       "2  7547436225     18280877         2001  Open         Email   \n",
       "3  2255817798     18858552         2013  Open         Email   \n",
       "4  8032011595     18686014         2000  Open         Email   \n",
       "5  5804784116     18788746         2016  Open         Email   \n",
       "6  7702061118     18344334         2013  Open         Email   \n",
       "7  1181671472     18805954         2019  Open         Email   \n",
       "8  7028937193     18279824         2013  Open         Email   \n",
       "9  5385033801     18487695         2000  Open         Email   \n",
       "\n",
       "             Activity_Details  \n",
       "0  Register for this new deal  \n",
       "1  Three Keys to your success  \n",
       "2  Register for this new deal  \n",
       "3  Three Keys to your success  \n",
       "4            Monthly overview  \n",
       "5  Three Keys to your success  \n",
       "6  Register for this new deal  \n",
       "7            Monthly overview  \n",
       "8  Three Keys to your success  \n",
       "9  Three Keys to your success  "
      ]
     },
     "execution_count": 558,
     "metadata": {},
     "output_type": "execute_result"
    }
   ],
   "source": [
    "# Visitor DataFrame\n",
    "visitor_df = pd.read_csv('Visitor_Activity_DS (1).csv')\n",
    "visitor_df.head(10)"
   ]
  },
  {
   "cell_type": "code",
   "execution_count": 559,
   "metadata": {},
   "outputs": [
    {
     "name": "stdout",
     "output_type": "stream",
     "text": [
      "Shape:\t (1999, 7)\n"
     ]
    }
   ],
   "source": [
    "# Shape of the prospect dataframe\n",
    "print('Shape:\\t', prospect_df.shape)"
   ]
  },
  {
   "cell_type": "markdown",
   "metadata": {},
   "source": [
    "So, we have number of rows: 7, number of columns: 1999"
   ]
  },
  {
   "cell_type": "code",
   "execution_count": 560,
   "metadata": {},
   "outputs": [
    {
     "name": "stdout",
     "output_type": "stream",
     "text": [
      "Shape:\t (3999, 6)\n"
     ]
    }
   ],
   "source": [
    "# Shape of the visitor dataframe\n",
    "print('Shape:\\t', visitor_df.shape)"
   ]
  },
  {
   "cell_type": "markdown",
   "metadata": {},
   "source": [
    "So, in visitor dataframe we have 3999 rows and 6 columns"
   ]
  },
  {
   "cell_type": "markdown",
   "metadata": {},
   "source": [
    "Let's have a look into the vistor dataframe. "
   ]
  },
  {
   "cell_type": "code",
   "execution_count": 561,
   "metadata": {},
   "outputs": [
    {
     "data": {
      "text/plain": [
       "Page View               1060\n",
       "Webinar                  716\n",
       "File                     492\n",
       "Email Tracker            458\n",
       "Email                    450\n",
       "Multivariate Landing     425\n",
       "Form                     398\n",
       "Name: Activity_Name, dtype: int64"
      ]
     },
     "execution_count": 561,
     "metadata": {},
     "output_type": "execute_result"
    }
   ],
   "source": [
    "# Number of unique value occurance in the Activity name\n",
    "visitor_df['Activity_Name'].value_counts()"
   ]
  },
  {
   "cell_type": "code",
   "execution_count": 562,
   "metadata": {},
   "outputs": [
    {
     "data": {
      "text/plain": [
       "View                  2348\n",
       "Registered Webinar     546\n",
       "Click                  458\n",
       "Open                   194\n",
       "Attended Webinar       170\n",
       "Resubscribed           122\n",
       "Unsubscribe Page        58\n",
       "Bounced                 51\n",
       "Success                 27\n",
       "Spam Complaint          25\n",
       "Name: Type, dtype: int64"
      ]
     },
     "execution_count": 562,
     "metadata": {},
     "output_type": "execute_result"
    }
   ],
   "source": [
    "# Number of unique value occurance in the type column\n",
    "visitor_df['Type'].value_counts()"
   ]
  },
  {
   "cell_type": "code",
   "execution_count": 563,
   "metadata": {},
   "outputs": [
    {
     "name": "stdout",
     "output_type": "stream",
     "text": [
      "Unique prospect ID in visitor dataframe:\t 1996\n"
     ]
    }
   ],
   "source": [
    "print('Unique prospect ID in visitor dataframe:\\t', len(visitor_df[\"Prospect_ID\"].value_counts()))"
   ]
  },
  {
   "cell_type": "markdown",
   "metadata": {},
   "source": [
    "Here I'm creating new features, based on type and Activity Name in the visitor dataframe. "
   ]
  },
  {
   "cell_type": "code",
   "execution_count": 564,
   "metadata": {},
   "outputs": [],
   "source": [
    "# Activity Name\n",
    "Page_view = []\n",
    "Webinar = []\n",
    "File = []\n",
    "Email_tracker = []\n",
    "Email = []\n",
    "Multivariate_landing = []\n",
    "Form = []"
   ]
  },
  {
   "cell_type": "code",
   "execution_count": 565,
   "metadata": {},
   "outputs": [],
   "source": [
    "# Extracting the prospect ID's\n",
    "prospect_ids = prospect_df[\"Prospect_ID\"]"
   ]
  },
  {
   "cell_type": "code",
   "execution_count": 566,
   "metadata": {},
   "outputs": [],
   "source": [
    "# Appending the count of the features from the Activity Name column with respect to the prospect ID\n",
    "for p_id in prospect_ids:\n",
    "    activity_list = visitor_df[visitor_df['Prospect_ID'] == p_id]['Activity_Name'].to_list()\n",
    "    Page_view.append(activity_list.count('Page View'))\n",
    "    Webinar.append(activity_list.count('Webinar'))\n",
    "    File.append(activity_list.count('File'))\n",
    "    Email_tracker.append(activity_list.count('Email Tracker'))\n",
    "    Email.append(activity_list.count('Email'))\n",
    "    Multivariate_landing.append(activity_list.count('Multivariate Landing'))\n",
    "    Form.append(activity_list.count('Form'))"
   ]
  },
  {
   "cell_type": "code",
   "execution_count": 567,
   "metadata": {},
   "outputs": [],
   "source": [
    "# Creating new features based on the Active Name column\n",
    "prospect_df[\"activity_name_page_view\"] = Page_view\n",
    "prospect_df['activity_webinar'] = Webinar\n",
    "prospect_df['activity_file'] = File\n",
    "prospect_df['activity_email_tracker'] = Email_tracker\n",
    "prospect_df['activity_email'] = Email\n",
    "prospect_df['activity_form'] = Form\n",
    "prospect_df['activity_multivariate_landing'] = Multivariate_landing"
   ]
  },
  {
   "cell_type": "code",
   "execution_count": 568,
   "metadata": {},
   "outputs": [],
   "source": [
    "# Type column\n",
    "View = []\n",
    "Registered_Webinar=[]\n",
    "Click = []\n",
    "Open = []\n",
    "Attended_Webinar=[]\n",
    "Resubscribed=[]\n",
    "Unsubscribe_Page=[]\n",
    "Bounced=[]\n",
    "Success=[]\n",
    "Spam_Complaint=[]"
   ]
  },
  {
   "cell_type": "code",
   "execution_count": 569,
   "metadata": {},
   "outputs": [],
   "source": [
    "# Appending count of the unique values from the type column with respect to the prospect ID\n",
    "for p_id in prospect_ids:\n",
    "    type_list = visitor_df[visitor_df[\"Prospect_ID\"] == p_id][\"Type\"].to_list()\n",
    "    View.append(type_list.count(\"View\"))\n",
    "    Registered_Webinar.append(type_list.count(\"Registered Webinar\"))\n",
    "    Click.append(type_list.count(\"Click\"))\n",
    "    Open.append(type_list.count(\"Open\"))\n",
    "    Attended_Webinar.append(type_list.count(\"Attended Webinar\"))\n",
    "    Resubscribed.append(type_list.count(\"Resubscribed\"))\n",
    "    Unsubscribe_Page.append(type_list.count(\"Unsubscribe Page\"))\n",
    "    Bounced.append(type_list.count(\"Bounced\"))\n",
    "    Success.append(type_list.count(\"Success\"))\n",
    "    Spam_Complaint.append(type_list.count(\"Spam Complaint\"))\n",
    "    \n",
    " "
   ]
  },
  {
   "cell_type": "code",
   "execution_count": 570,
   "metadata": {},
   "outputs": [],
   "source": [
    "# Creating new features based on the type column\n",
    "prospect_df[\"type_open\"] = Open\n",
    "prospect_df[\"type_view\"] = View\n",
    "prospect_df[\"type_registered_webinar\"] = Registered_Webinar\n",
    "prospect_df[\"type_attended_webinar\"] = Attended_Webinar\n",
    "prospect_df[\"type_click\"] = Click\n",
    "prospect_df[\"type_resubscribed\"] = Resubscribed\n",
    "prospect_df[\"type_unsubscribe_page\"] = Unsubscribe_Page\n",
    "prospect_df[\"type_bounced\"] = Bounced\n",
    "prospect_df[\"type_success\"] = Success\n",
    "prospect_df[\"type_spam_complaint\"] = Spam_Complaint"
   ]
  },
  {
   "cell_type": "code",
   "execution_count": 571,
   "metadata": {},
   "outputs": [
    {
     "data": {
      "text/html": [
       "<div>\n",
       "<style scoped>\n",
       "    .dataframe tbody tr th:only-of-type {\n",
       "        vertical-align: middle;\n",
       "    }\n",
       "\n",
       "    .dataframe tbody tr th {\n",
       "        vertical-align: top;\n",
       "    }\n",
       "\n",
       "    .dataframe thead th {\n",
       "        text-align: right;\n",
       "    }\n",
       "</style>\n",
       "<table border=\"1\" class=\"dataframe\">\n",
       "  <thead>\n",
       "    <tr style=\"text-align: right;\">\n",
       "      <th></th>\n",
       "      <th>Prospect_ID</th>\n",
       "      <th>Campaign_ID</th>\n",
       "      <th>Company</th>\n",
       "      <th>Job_Title</th>\n",
       "      <th>Score</th>\n",
       "      <th>Source</th>\n",
       "      <th>Lead_Status</th>\n",
       "      <th>activity_name_page_view</th>\n",
       "      <th>activity_webinar</th>\n",
       "      <th>activity_file</th>\n",
       "      <th>...</th>\n",
       "      <th>type_open</th>\n",
       "      <th>type_view</th>\n",
       "      <th>type_registered_webinar</th>\n",
       "      <th>type_attended_webinar</th>\n",
       "      <th>type_click</th>\n",
       "      <th>type_resubscribed</th>\n",
       "      <th>type_unsubscribe_page</th>\n",
       "      <th>type_bounced</th>\n",
       "      <th>type_success</th>\n",
       "      <th>type_spam_complaint</th>\n",
       "    </tr>\n",
       "  </thead>\n",
       "  <tbody>\n",
       "    <tr>\n",
       "      <td>0</td>\n",
       "      <td>18258198</td>\n",
       "      <td>2013</td>\n",
       "      <td>Brock Tech</td>\n",
       "      <td>Chief of Digital Marketing</td>\n",
       "      <td>65</td>\n",
       "      <td>Website</td>\n",
       "      <td>Open</td>\n",
       "      <td>1</td>\n",
       "      <td>1</td>\n",
       "      <td>0</td>\n",
       "      <td>...</td>\n",
       "      <td>0</td>\n",
       "      <td>1</td>\n",
       "      <td>1</td>\n",
       "      <td>0</td>\n",
       "      <td>0</td>\n",
       "      <td>0</td>\n",
       "      <td>0</td>\n",
       "      <td>0</td>\n",
       "      <td>0</td>\n",
       "      <td>0</td>\n",
       "    </tr>\n",
       "    <tr>\n",
       "      <td>1</td>\n",
       "      <td>18441354</td>\n",
       "      <td>2005</td>\n",
       "      <td>Myxable Co.</td>\n",
       "      <td>Financial Analyst</td>\n",
       "      <td>66</td>\n",
       "      <td>Twitter</td>\n",
       "      <td>Open</td>\n",
       "      <td>1</td>\n",
       "      <td>0</td>\n",
       "      <td>0</td>\n",
       "      <td>...</td>\n",
       "      <td>0</td>\n",
       "      <td>2</td>\n",
       "      <td>0</td>\n",
       "      <td>0</td>\n",
       "      <td>0</td>\n",
       "      <td>0</td>\n",
       "      <td>0</td>\n",
       "      <td>0</td>\n",
       "      <td>0</td>\n",
       "      <td>0</td>\n",
       "    </tr>\n",
       "    <tr>\n",
       "      <td>2</td>\n",
       "      <td>18642577</td>\n",
       "      <td>2009</td>\n",
       "      <td>Polymeris</td>\n",
       "      <td>Procurement Manager</td>\n",
       "      <td>60</td>\n",
       "      <td>Website</td>\n",
       "      <td>Qualified</td>\n",
       "      <td>1</td>\n",
       "      <td>0</td>\n",
       "      <td>0</td>\n",
       "      <td>...</td>\n",
       "      <td>0</td>\n",
       "      <td>1</td>\n",
       "      <td>0</td>\n",
       "      <td>0</td>\n",
       "      <td>1</td>\n",
       "      <td>0</td>\n",
       "      <td>0</td>\n",
       "      <td>0</td>\n",
       "      <td>0</td>\n",
       "      <td>0</td>\n",
       "    </tr>\n",
       "    <tr>\n",
       "      <td>3</td>\n",
       "      <td>18664142</td>\n",
       "      <td>2009</td>\n",
       "      <td>HeidieX</td>\n",
       "      <td>Procurement Manager</td>\n",
       "      <td>65</td>\n",
       "      <td>Instagram</td>\n",
       "      <td>Open</td>\n",
       "      <td>1</td>\n",
       "      <td>0</td>\n",
       "      <td>0</td>\n",
       "      <td>...</td>\n",
       "      <td>0</td>\n",
       "      <td>2</td>\n",
       "      <td>0</td>\n",
       "      <td>0</td>\n",
       "      <td>0</td>\n",
       "      <td>0</td>\n",
       "      <td>0</td>\n",
       "      <td>0</td>\n",
       "      <td>0</td>\n",
       "      <td>0</td>\n",
       "    </tr>\n",
       "    <tr>\n",
       "      <td>4</td>\n",
       "      <td>18344212</td>\n",
       "      <td>2013</td>\n",
       "      <td>Myxable Co.</td>\n",
       "      <td>Senior Director of B2B Marketing</td>\n",
       "      <td>72</td>\n",
       "      <td>Instagram</td>\n",
       "      <td>Closed</td>\n",
       "      <td>1</td>\n",
       "      <td>1</td>\n",
       "      <td>0</td>\n",
       "      <td>...</td>\n",
       "      <td>0</td>\n",
       "      <td>1</td>\n",
       "      <td>1</td>\n",
       "      <td>0</td>\n",
       "      <td>0</td>\n",
       "      <td>0</td>\n",
       "      <td>0</td>\n",
       "      <td>0</td>\n",
       "      <td>0</td>\n",
       "      <td>0</td>\n",
       "    </tr>\n",
       "  </tbody>\n",
       "</table>\n",
       "<p>5 rows × 24 columns</p>\n",
       "</div>"
      ],
      "text/plain": [
       "   Prospect_ID  Campaign_ID      Company                         Job_Title  \\\n",
       "0     18258198         2013   Brock Tech        Chief of Digital Marketing   \n",
       "1     18441354         2005  Myxable Co.                 Financial Analyst   \n",
       "2     18642577         2009    Polymeris               Procurement Manager   \n",
       "3     18664142         2009      HeidieX               Procurement Manager   \n",
       "4     18344212         2013  Myxable Co.  Senior Director of B2B Marketing   \n",
       "\n",
       "   Score     Source Lead_Status  activity_name_page_view  activity_webinar  \\\n",
       "0     65    Website        Open                        1                 1   \n",
       "1     66    Twitter        Open                        1                 0   \n",
       "2     60    Website   Qualified                        1                 0   \n",
       "3     65  Instagram        Open                        1                 0   \n",
       "4     72  Instagram      Closed                        1                 1   \n",
       "\n",
       "   activity_file  ...  type_open  type_view  type_registered_webinar  \\\n",
       "0              0  ...          0          1                        1   \n",
       "1              0  ...          0          2                        0   \n",
       "2              0  ...          0          1                        0   \n",
       "3              0  ...          0          2                        0   \n",
       "4              0  ...          0          1                        1   \n",
       "\n",
       "   type_attended_webinar  type_click  type_resubscribed  \\\n",
       "0                      0           0                  0   \n",
       "1                      0           0                  0   \n",
       "2                      0           1                  0   \n",
       "3                      0           0                  0   \n",
       "4                      0           0                  0   \n",
       "\n",
       "   type_unsubscribe_page  type_bounced  type_success  type_spam_complaint  \n",
       "0                      0             0             0                    0  \n",
       "1                      0             0             0                    0  \n",
       "2                      0             0             0                    0  \n",
       "3                      0             0             0                    0  \n",
       "4                      0             0             0                    0  \n",
       "\n",
       "[5 rows x 24 columns]"
      ]
     },
     "execution_count": 571,
     "metadata": {},
     "output_type": "execute_result"
    }
   ],
   "source": [
    "prospect_df.head()"
   ]
  },
  {
   "cell_type": "code",
   "execution_count": 572,
   "metadata": {},
   "outputs": [
    {
     "data": {
      "text/plain": [
       "Index(['Prospect_ID', 'Campaign_ID', 'Company', 'Job_Title', 'Score', 'Source',\n",
       "       'Lead_Status', 'activity_name_page_view', 'activity_webinar',\n",
       "       'activity_file', 'activity_email_tracker', 'activity_email',\n",
       "       'activity_form', 'activity_multivariate_landing', 'type_open',\n",
       "       'type_view', 'type_registered_webinar', 'type_attended_webinar',\n",
       "       'type_click', 'type_resubscribed', 'type_unsubscribe_page',\n",
       "       'type_bounced', 'type_success', 'type_spam_complaint'],\n",
       "      dtype='object')"
      ]
     },
     "execution_count": 572,
     "metadata": {},
     "output_type": "execute_result"
    }
   ],
   "source": [
    "prospect_df.columns"
   ]
  },
  {
   "cell_type": "markdown",
   "metadata": {},
   "source": [
    "From the above two cells, we see that new features have been created."
   ]
  },
  {
   "cell_type": "markdown",
   "metadata": {},
   "source": [
    "Now let's look into the target column which is lead status in our case."
   ]
  },
  {
   "cell_type": "markdown",
   "metadata": {},
   "source": [
    "Distirbution of Candidates among different lead status"
   ]
  },
  {
   "cell_type": "code",
   "execution_count": 573,
   "metadata": {},
   "outputs": [
    {
     "data": {
      "image/png": "[encoded data removed]",
      "text/plain": [
       "<Figure size 432x288 with 1 Axes>"
      ]
     },
     "metadata": {
      "needs_background": "light"
     },
     "output_type": "display_data"
    }
   ],
   "source": [
    "sns.countplot(prospect_df.Lead_Status)\n",
    "plt.xlabel('Lead_Status')\n",
    "plt.ylabel('Number of Lead Candidates')\n",
    "plt.show()"
   ]
  },
  {
   "cell_type": "markdown",
   "metadata": {},
   "source": [
    "As per the problem status, we are considering leads that have Qualified,Contacting,Closed as highly qualified and leads that have Open as lead status are considered to be low qualified\n",
    "So, we are trying replace highly qualified leads as value 1, and low qualified leads as value 0. \n"
   ]
  },
  {
   "cell_type": "code",
   "execution_count": 574,
   "metadata": {},
   "outputs": [],
   "source": [
    "# Replacing the target values with 0 and 1\n",
    "prospect_df['Lead_Status'] = prospect_df['Lead_Status'].map({'Qualified':1, 'Contacting':1, 'Closed':1, 'Open':0})"
   ]
  },
  {
   "cell_type": "code",
   "execution_count": 575,
   "metadata": {},
   "outputs": [
    {
     "data": {
      "text/plain": [
       "1    1488\n",
       "0     511\n",
       "Name: Lead_Status, dtype: int64"
      ]
     },
     "execution_count": 575,
     "metadata": {},
     "output_type": "execute_result"
    }
   ],
   "source": [
    "# Number of occurance of high and low qualified leads\n",
    "prospect_df['Lead_Status'].value_counts()"
   ]
  },
  {
   "cell_type": "markdown",
   "metadata": {},
   "source": [
    "So far so good. Now it's time to convert all the text data in the dataframe to the numerical data"
   ]
  },
  {
   "cell_type": "code",
   "execution_count": 576,
   "metadata": {},
   "outputs": [],
   "source": [
    "# Handling non numerical data\n",
    "def handle_non_numerical_data(df):\n",
    "    columns = df.columns.values\n",
    "    for column in columns:\n",
    "        text_digit_vals = {}\n",
    "        def convert_to_int(val):\n",
    "            return text_digit_vals[val]\n",
    "\n",
    "        if df[column].dtype != np.int64 and df[column].dtype != np.float64:\n",
    "            column_contents = df[column].values.tolist()\n",
    "            unique_elements = set(column_contents)\n",
    "            x = 0\n",
    "            for unique in unique_elements:\n",
    "                if unique not in text_digit_vals:\n",
    "                    text_digit_vals[unique] = x\n",
    "                    x+=1\n",
    "\n",
    "            df[column] = list(map(convert_to_int, df[column]))\n",
    "\n",
    "    return df"
   ]
  },
  {
   "cell_type": "code",
   "execution_count": 577,
   "metadata": {},
   "outputs": [],
   "source": [
    "prospect_df = handle_non_numerical_data(prospect_df)"
   ]
  },
  {
   "cell_type": "code",
   "execution_count": 578,
   "metadata": {},
   "outputs": [
    {
     "data": {
      "text/html": [
       "<div>\n",
       "<style scoped>\n",
       "    .dataframe tbody tr th:only-of-type {\n",
       "        vertical-align: middle;\n",
       "    }\n",
       "\n",
       "    .dataframe tbody tr th {\n",
       "        vertical-align: top;\n",
       "    }\n",
       "\n",
       "    .dataframe thead th {\n",
       "        text-align: right;\n",
       "    }\n",
       "</style>\n",
       "<table border=\"1\" class=\"dataframe\">\n",
       "  <thead>\n",
       "    <tr style=\"text-align: right;\">\n",
       "      <th></th>\n",
       "      <th>Prospect_ID</th>\n",
       "      <th>Campaign_ID</th>\n",
       "      <th>Company</th>\n",
       "      <th>Job_Title</th>\n",
       "      <th>Score</th>\n",
       "      <th>Source</th>\n",
       "      <th>Lead_Status</th>\n",
       "      <th>activity_name_page_view</th>\n",
       "      <th>activity_webinar</th>\n",
       "      <th>activity_file</th>\n",
       "      <th>...</th>\n",
       "      <th>type_open</th>\n",
       "      <th>type_view</th>\n",
       "      <th>type_registered_webinar</th>\n",
       "      <th>type_attended_webinar</th>\n",
       "      <th>type_click</th>\n",
       "      <th>type_resubscribed</th>\n",
       "      <th>type_unsubscribe_page</th>\n",
       "      <th>type_bounced</th>\n",
       "      <th>type_success</th>\n",
       "      <th>type_spam_complaint</th>\n",
       "    </tr>\n",
       "  </thead>\n",
       "  <tbody>\n",
       "    <tr>\n",
       "      <td>0</td>\n",
       "      <td>18258198</td>\n",
       "      <td>2013</td>\n",
       "      <td>8</td>\n",
       "      <td>3</td>\n",
       "      <td>65</td>\n",
       "      <td>2</td>\n",
       "      <td>0</td>\n",
       "      <td>1</td>\n",
       "      <td>1</td>\n",
       "      <td>0</td>\n",
       "      <td>...</td>\n",
       "      <td>0</td>\n",
       "      <td>1</td>\n",
       "      <td>1</td>\n",
       "      <td>0</td>\n",
       "      <td>0</td>\n",
       "      <td>0</td>\n",
       "      <td>0</td>\n",
       "      <td>0</td>\n",
       "      <td>0</td>\n",
       "      <td>0</td>\n",
       "    </tr>\n",
       "    <tr>\n",
       "      <td>1</td>\n",
       "      <td>18441354</td>\n",
       "      <td>2005</td>\n",
       "      <td>5</td>\n",
       "      <td>5</td>\n",
       "      <td>66</td>\n",
       "      <td>0</td>\n",
       "      <td>0</td>\n",
       "      <td>1</td>\n",
       "      <td>0</td>\n",
       "      <td>0</td>\n",
       "      <td>...</td>\n",
       "      <td>0</td>\n",
       "      <td>2</td>\n",
       "      <td>0</td>\n",
       "      <td>0</td>\n",
       "      <td>0</td>\n",
       "      <td>0</td>\n",
       "      <td>0</td>\n",
       "      <td>0</td>\n",
       "      <td>0</td>\n",
       "      <td>0</td>\n",
       "    </tr>\n",
       "    <tr>\n",
       "      <td>2</td>\n",
       "      <td>18642577</td>\n",
       "      <td>2009</td>\n",
       "      <td>10</td>\n",
       "      <td>13</td>\n",
       "      <td>60</td>\n",
       "      <td>2</td>\n",
       "      <td>1</td>\n",
       "      <td>1</td>\n",
       "      <td>0</td>\n",
       "      <td>0</td>\n",
       "      <td>...</td>\n",
       "      <td>0</td>\n",
       "      <td>1</td>\n",
       "      <td>0</td>\n",
       "      <td>0</td>\n",
       "      <td>1</td>\n",
       "      <td>0</td>\n",
       "      <td>0</td>\n",
       "      <td>0</td>\n",
       "      <td>0</td>\n",
       "      <td>0</td>\n",
       "    </tr>\n",
       "    <tr>\n",
       "      <td>3</td>\n",
       "      <td>18664142</td>\n",
       "      <td>2009</td>\n",
       "      <td>2</td>\n",
       "      <td>13</td>\n",
       "      <td>65</td>\n",
       "      <td>4</td>\n",
       "      <td>0</td>\n",
       "      <td>1</td>\n",
       "      <td>0</td>\n",
       "      <td>0</td>\n",
       "      <td>...</td>\n",
       "      <td>0</td>\n",
       "      <td>2</td>\n",
       "      <td>0</td>\n",
       "      <td>0</td>\n",
       "      <td>0</td>\n",
       "      <td>0</td>\n",
       "      <td>0</td>\n",
       "      <td>0</td>\n",
       "      <td>0</td>\n",
       "      <td>0</td>\n",
       "    </tr>\n",
       "    <tr>\n",
       "      <td>4</td>\n",
       "      <td>18344212</td>\n",
       "      <td>2013</td>\n",
       "      <td>5</td>\n",
       "      <td>9</td>\n",
       "      <td>72</td>\n",
       "      <td>4</td>\n",
       "      <td>1</td>\n",
       "      <td>1</td>\n",
       "      <td>1</td>\n",
       "      <td>0</td>\n",
       "      <td>...</td>\n",
       "      <td>0</td>\n",
       "      <td>1</td>\n",
       "      <td>1</td>\n",
       "      <td>0</td>\n",
       "      <td>0</td>\n",
       "      <td>0</td>\n",
       "      <td>0</td>\n",
       "      <td>0</td>\n",
       "      <td>0</td>\n",
       "      <td>0</td>\n",
       "    </tr>\n",
       "  </tbody>\n",
       "</table>\n",
       "<p>5 rows × 24 columns</p>\n",
       "</div>"
      ],
      "text/plain": [
       "   Prospect_ID  Campaign_ID  Company  Job_Title  Score  Source  Lead_Status  \\\n",
       "0     18258198         2013        8          3     65       2            0   \n",
       "1     18441354         2005        5          5     66       0            0   \n",
       "2     18642577         2009       10         13     60       2            1   \n",
       "3     18664142         2009        2         13     65       4            0   \n",
       "4     18344212         2013        5          9     72       4            1   \n",
       "\n",
       "   activity_name_page_view  activity_webinar  activity_file  ...  type_open  \\\n",
       "0                        1                 1              0  ...          0   \n",
       "1                        1                 0              0  ...          0   \n",
       "2                        1                 0              0  ...          0   \n",
       "3                        1                 0              0  ...          0   \n",
       "4                        1                 1              0  ...          0   \n",
       "\n",
       "   type_view  type_registered_webinar  type_attended_webinar  type_click  \\\n",
       "0          1                        1                      0           0   \n",
       "1          2                        0                      0           0   \n",
       "2          1                        0                      0           1   \n",
       "3          2                        0                      0           0   \n",
       "4          1                        1                      0           0   \n",
       "\n",
       "   type_resubscribed  type_unsubscribe_page  type_bounced  type_success  \\\n",
       "0                  0                      0             0             0   \n",
       "1                  0                      0             0             0   \n",
       "2                  0                      0             0             0   \n",
       "3                  0                      0             0             0   \n",
       "4                  0                      0             0             0   \n",
       "\n",
       "   type_spam_complaint  \n",
       "0                    0  \n",
       "1                    0  \n",
       "2                    0  \n",
       "3                    0  \n",
       "4                    0  \n",
       "\n",
       "[5 rows x 24 columns]"
      ]
     },
     "execution_count": 578,
     "metadata": {},
     "output_type": "execute_result"
    }
   ],
   "source": [
    "prospect_df.head()"
   ]
  },
  {
   "cell_type": "markdown",
   "metadata": {},
   "source": [
    "From the above dataframe, we see that all the text data or non numerical data are converted to numerical data"
   ]
  },
  {
   "cell_type": "markdown",
   "metadata": {},
   "source": [
    "Handling Null values:\n",
    "Here we are trying to fill the null values with 0."
   ]
  },
  {
   "cell_type": "code",
   "execution_count": 579,
   "metadata": {},
   "outputs": [],
   "source": [
    "# Filling null values\n",
    "prospect_df = prospect_df.fillna(0)"
   ]
  },
  {
   "cell_type": "markdown",
   "metadata": {},
   "source": [
    "#### Handling Imbalanced Data"
   ]
  },
  {
   "cell_type": "code",
   "execution_count": 580,
   "metadata": {},
   "outputs": [
    {
     "data": {
      "image/png": "[encoded data removed]",
      "text/plain": [
       "<Figure size 432x288 with 1 Axes>"
      ]
     },
     "metadata": {
      "needs_background": "light"
     },
     "output_type": "display_data"
    }
   ],
   "source": [
    "sns.countplot(prospect_df.Lead_Status)\n",
    "plt.xlabel('Lead Status')\n",
    "plt.ylabel('Number of leads')\n",
    "plt.show()"
   ]
  },
  {
   "cell_type": "markdown",
   "metadata": {},
   "source": [
    "From the above graph we see that, distirbution of high and qualified leads seems to be imbalanced."
   ]
  },
  {
   "cell_type": "markdown",
   "metadata": {},
   "source": [
    "Steps to handle the imbalanced data\n",
    "1. First we seperate the from each class into different dataframes, based on the the target values 0 and 1.\n",
    "2. Next, we will resample the minority class with replacement, setting the number of samples to match the majority class\n",
    "3. Finally, we'll combine the up-sampled minority class DataFrame with the original majority class DataFrame.\n",
    "\n",
    "Note: majority class are those which have more number of samples based on target value(in our case it's high quality). Similarly minority class are those which have less number of samples"
   ]
  },
  {
   "cell_type": "code",
   "execution_count": 585,
   "metadata": {},
   "outputs": [],
   "source": [
    "df_majority = prospect_df[prospect_df.Lead_Status == 1]  # High Quality\n",
    "df_minority = prospect_df[prospect_df.Lead_Status == 0]  # Low Quality"
   ]
  },
  {
   "cell_type": "code",
   "execution_count": 586,
   "metadata": {},
   "outputs": [
    {
     "data": {
      "text/plain": [
       "1488"
      ]
     },
     "execution_count": 586,
     "metadata": {},
     "output_type": "execute_result"
    }
   ],
   "source": [
    "# Finding the max count of the high quality and low quality Lead Status\n",
    "majority_count = max([df_majority['Lead_Status'].value_counts()[1], df_minority['Lead_Status'].value_counts()[0]])\n",
    "majority_count"
   ]
  },
  {
   "cell_type": "code",
   "execution_count": 588,
   "metadata": {},
   "outputs": [
    {
     "data": {
      "text/plain": [
       "1    1488\n",
       "0    1488\n",
       "Name: Lead_Status, dtype: int64"
      ]
     },
     "execution_count": 588,
     "metadata": {},
     "output_type": "execute_result"
    }
   ],
   "source": [
    "# Upsampling\n",
    "df_minority_sampled = resample(df_minority,replace = True,n_samples = majority_count,random_state = 123)\n",
    "# Combining the Upsampled minority class with the majority class\n",
    "df_upsampled = pd.concat([df_minority_sampled,df_majority])\n",
    "df_upsampled.Lead_Status.value_counts()"
   ]
  },
  {
   "cell_type": "markdown",
   "metadata": {},
   "source": [
    "Distirbution of lead status among number of leads"
   ]
  },
  {
   "cell_type": "code",
   "execution_count": 589,
   "metadata": {},
   "outputs": [
    {
     "data": {
      "image/png": "[encoded data removed]",
      "text/plain": [
       "<Figure size 432x288 with 1 Axes>"
      ]
     },
     "metadata": {
      "needs_background": "light"
     },
     "output_type": "display_data"
    }
   ],
   "source": [
    "sns.countplot(df_upsampled.Lead_Status)\n",
    "plt.xlabel('Lead Status')\n",
    "plt.ylabel('Number of leads')\n",
    "plt.show()"
   ]
  },
  {
   "cell_type": "markdown",
   "metadata": {},
   "source": [
    "From the above graph we can say that data looks balanced."
   ]
  },
  {
   "cell_type": "markdown",
   "metadata": {},
   "source": [
    "Splitting the dataframe."
   ]
  },
  {
   "cell_type": "code",
   "execution_count": 590,
   "metadata": {},
   "outputs": [],
   "source": [
    "# Seperating the Lead_Status column to the target dataframe\n",
    "target = df_upsampled[\"Lead_Status\"]"
   ]
  },
  {
   "cell_type": "markdown",
   "metadata": {},
   "source": [
    "Dropping the columns that aren't required or which are less important. Also dropping some of the columns where we the disturbution is not robust. For example in case of spam complaint out of 1999 only 25 people have it. so these kind of features which have very less or very high distirbution can be dropped."
   ]
  },
  {
   "cell_type": "code",
   "execution_count": 591,
   "metadata": {},
   "outputs": [],
   "source": [
    "# Dropping the columns that aren't required or which are less important\n",
    "train_df = df_upsampled.drop([\"Lead_Status\",\"Prospect_ID\",\"Campaign_ID\",\"type_view\",\"type_spam_complaint\",\"type_success\",\"type_unsubscribe_page\",\"activity_name_page_view\",\"activity_webinar\",\"type_bounced\"], axis=1)"
   ]
  },
  {
   "cell_type": "code",
   "execution_count": 592,
   "metadata": {},
   "outputs": [
    {
     "data": {
      "text/html": [
       "<div>\n",
       "<style scoped>\n",
       "    .dataframe tbody tr th:only-of-type {\n",
       "        vertical-align: middle;\n",
       "    }\n",
       "\n",
       "    .dataframe tbody tr th {\n",
       "        vertical-align: top;\n",
       "    }\n",
       "\n",
       "    .dataframe thead th {\n",
       "        text-align: right;\n",
       "    }\n",
       "</style>\n",
       "<table border=\"1\" class=\"dataframe\">\n",
       "  <thead>\n",
       "    <tr style=\"text-align: right;\">\n",
       "      <th></th>\n",
       "      <th>Company</th>\n",
       "      <th>Job_Title</th>\n",
       "      <th>Score</th>\n",
       "      <th>Source</th>\n",
       "      <th>activity_file</th>\n",
       "      <th>activity_email_tracker</th>\n",
       "      <th>activity_email</th>\n",
       "      <th>activity_form</th>\n",
       "      <th>activity_multivariate_landing</th>\n",
       "      <th>type_open</th>\n",
       "      <th>type_registered_webinar</th>\n",
       "      <th>type_attended_webinar</th>\n",
       "      <th>type_click</th>\n",
       "      <th>type_resubscribed</th>\n",
       "    </tr>\n",
       "  </thead>\n",
       "  <tbody>\n",
       "    <tr>\n",
       "      <td>1998</td>\n",
       "      <td>7</td>\n",
       "      <td>1</td>\n",
       "      <td>38</td>\n",
       "      <td>1</td>\n",
       "      <td>0</td>\n",
       "      <td>0</td>\n",
       "      <td>0</td>\n",
       "      <td>0</td>\n",
       "      <td>1</td>\n",
       "      <td>0</td>\n",
       "      <td>1</td>\n",
       "      <td>0</td>\n",
       "      <td>0</td>\n",
       "      <td>0</td>\n",
       "    </tr>\n",
       "    <tr>\n",
       "      <td>1433</td>\n",
       "      <td>2</td>\n",
       "      <td>12</td>\n",
       "      <td>67</td>\n",
       "      <td>6</td>\n",
       "      <td>0</td>\n",
       "      <td>0</td>\n",
       "      <td>0</td>\n",
       "      <td>0</td>\n",
       "      <td>0</td>\n",
       "      <td>0</td>\n",
       "      <td>1</td>\n",
       "      <td>0</td>\n",
       "      <td>0</td>\n",
       "      <td>0</td>\n",
       "    </tr>\n",
       "    <tr>\n",
       "      <td>1496</td>\n",
       "      <td>6</td>\n",
       "      <td>1</td>\n",
       "      <td>72</td>\n",
       "      <td>6</td>\n",
       "      <td>0</td>\n",
       "      <td>0</td>\n",
       "      <td>1</td>\n",
       "      <td>0</td>\n",
       "      <td>0</td>\n",
       "      <td>0</td>\n",
       "      <td>1</td>\n",
       "      <td>0</td>\n",
       "      <td>0</td>\n",
       "      <td>0</td>\n",
       "    </tr>\n",
       "    <tr>\n",
       "      <td>1261</td>\n",
       "      <td>0</td>\n",
       "      <td>6</td>\n",
       "      <td>47</td>\n",
       "      <td>6</td>\n",
       "      <td>1</td>\n",
       "      <td>1</td>\n",
       "      <td>1</td>\n",
       "      <td>1</td>\n",
       "      <td>0</td>\n",
       "      <td>1</td>\n",
       "      <td>0</td>\n",
       "      <td>0</td>\n",
       "      <td>1</td>\n",
       "      <td>0</td>\n",
       "    </tr>\n",
       "    <tr>\n",
       "      <td>1863</td>\n",
       "      <td>9</td>\n",
       "      <td>9</td>\n",
       "      <td>45</td>\n",
       "      <td>2</td>\n",
       "      <td>0</td>\n",
       "      <td>1</td>\n",
       "      <td>0</td>\n",
       "      <td>0</td>\n",
       "      <td>0</td>\n",
       "      <td>0</td>\n",
       "      <td>0</td>\n",
       "      <td>0</td>\n",
       "      <td>1</td>\n",
       "      <td>0</td>\n",
       "    </tr>\n",
       "  </tbody>\n",
       "</table>\n",
       "</div>"
      ],
      "text/plain": [
       "      Company  Job_Title  Score  Source  activity_file  \\\n",
       "1998        7          1     38       1              0   \n",
       "1433        2         12     67       6              0   \n",
       "1496        6          1     72       6              0   \n",
       "1261        0          6     47       6              1   \n",
       "1863        9          9     45       2              0   \n",
       "\n",
       "      activity_email_tracker  activity_email  activity_form  \\\n",
       "1998                       0               0              0   \n",
       "1433                       0               0              0   \n",
       "1496                       0               1              0   \n",
       "1261                       1               1              1   \n",
       "1863                       1               0              0   \n",
       "\n",
       "      activity_multivariate_landing  type_open  type_registered_webinar  \\\n",
       "1998                              1          0                        1   \n",
       "1433                              0          0                        1   \n",
       "1496                              0          0                        1   \n",
       "1261                              0          1                        0   \n",
       "1863                              0          0                        0   \n",
       "\n",
       "      type_attended_webinar  type_click  type_resubscribed  \n",
       "1998                      0           0                  0  \n",
       "1433                      0           0                  0  \n",
       "1496                      0           0                  0  \n",
       "1261                      0           1                  0  \n",
       "1863                      0           1                  0  "
      ]
     },
     "execution_count": 592,
     "metadata": {},
     "output_type": "execute_result"
    }
   ],
   "source": [
    "# Dataframe after dropping the columns\n",
    "train_df.head()"
   ]
  },
  {
   "cell_type": "markdown",
   "metadata": {},
   "source": [
    "#### Train/ Test Split"
   ]
  },
  {
   "cell_type": "code",
   "execution_count": 593,
   "metadata": {},
   "outputs": [],
   "source": [
    "from sklearn.model_selection import train_test_split\n",
    "X_train, X_test, y_train, y_test = train_test_split(train_df,target, test_size=0.1, random_state=42)"
   ]
  },
  {
   "cell_type": "markdown",
   "metadata": {},
   "source": [
    "#### Logistic Regression"
   ]
  },
  {
   "cell_type": "code",
   "execution_count": 594,
   "metadata": {},
   "outputs": [
    {
     "name": "stderr",
     "output_type": "stream",
     "text": [
      "/opt/anaconda3/lib/python3.7/site-packages/sklearn/linear_model/logistic.py:432: FutureWarning: Default solver will be changed to 'lbfgs' in 0.22. Specify a solver to silence this warning.\n",
      "  FutureWarning)\n"
     ]
    },
    {
     "data": {
      "text/plain": [
       "LogisticRegression(C=1.0, class_weight=None, dual=False, fit_intercept=True,\n",
       "                   intercept_scaling=1, l1_ratio=None, max_iter=100,\n",
       "                   multi_class='warn', n_jobs=None, penalty='l2',\n",
       "                   random_state=None, solver='warn', tol=0.0001, verbose=0,\n",
       "                   warm_start=False)"
      ]
     },
     "execution_count": 594,
     "metadata": {},
     "output_type": "execute_result"
    }
   ],
   "source": [
    "from sklearn.linear_model import LogisticRegression\n",
    "model = LogisticRegression()\n",
    "model.fit(X_train, y_train)"
   ]
  },
  {
   "cell_type": "code",
   "execution_count": 595,
   "metadata": {},
   "outputs": [],
   "source": [
    "pred = model.predict(X_test)"
   ]
  },
  {
   "cell_type": "code",
   "execution_count": 596,
   "metadata": {},
   "outputs": [
    {
     "data": {
      "text/plain": [
       "0.5536912751677853"
      ]
     },
     "execution_count": 596,
     "metadata": {},
     "output_type": "execute_result"
    }
   ],
   "source": [
    "accuracy_score(y_test,pred)"
   ]
  },
  {
   "cell_type": "code",
   "execution_count": 597,
   "metadata": {},
   "outputs": [],
   "source": [
    "new_score = model.predict_proba(X_test)[:,1]*100"
   ]
  },
  {
   "cell_type": "code",
   "execution_count": 598,
   "metadata": {},
   "outputs": [
    {
     "data": {
      "text/plain": [
       "array([54.52443376, 45.8311695 , 48.30325295, 49.16604663, 46.62728461])"
      ]
     },
     "execution_count": 598,
     "metadata": {},
     "output_type": "execute_result"
    }
   ],
   "source": [
    "new_score[0:5]"
   ]
  },
  {
   "cell_type": "markdown",
   "metadata": {},
   "source": [
    "Seems like, Logistic regression has no luck with this dataset."
   ]
  },
  {
   "cell_type": "markdown",
   "metadata": {},
   "source": [
    "#### ExtraTreeClassifier"
   ]
  },
  {
   "cell_type": "code",
   "execution_count": 599,
   "metadata": {},
   "outputs": [
    {
     "data": {
      "text/plain": [
       "ExtraTreesClassifier(bootstrap=False, class_weight=None, criterion='gini',\n",
       "                     max_depth=10, max_features='auto', max_leaf_nodes=None,\n",
       "                     min_impurity_decrease=0.0, min_impurity_split=None,\n",
       "                     min_samples_leaf=1, min_samples_split=2,\n",
       "                     min_weight_fraction_leaf=0.0, n_estimators=2000,\n",
       "                     n_jobs=None, oob_score=False, random_state=42, verbose=0,\n",
       "                     warm_start=False)"
      ]
     },
     "execution_count": 599,
     "metadata": {},
     "output_type": "execute_result"
    }
   ],
   "source": [
    "from sklearn.ensemble import ExtraTreesClassifier\n",
    "clf = ExtraTreesClassifier(n_estimators = 2000,random_state = 42,max_depth = 10)\n",
    "clf.fit(X_train,y_train)"
   ]
  },
  {
   "cell_type": "code",
   "execution_count": 600,
   "metadata": {},
   "outputs": [
    {
     "name": "stdout",
     "output_type": "stream",
     "text": [
      "Score:  0.8087248322147651\n"
     ]
    }
   ],
   "source": [
    "ext_y_pred = clf.predict(X_test)\n",
    "score = accuracy_score(y_test,ext_y_pred)\n",
    "print(\"Score: \", score)"
   ]
  },
  {
   "cell_type": "code",
   "execution_count": 601,
   "metadata": {},
   "outputs": [
    {
     "data": {
      "text/plain": [
       "0.8221476510067114"
      ]
     },
     "execution_count": 601,
     "metadata": {},
     "output_type": "execute_result"
    }
   ],
   "source": [
    "y_pred = (clf.predict_proba(X_test)[:,1] >= 0.49).astype(int)\n",
    "accuracy_score(y_test,y_pred)"
   ]
  },
  {
   "cell_type": "code",
   "execution_count": 602,
   "metadata": {},
   "outputs": [],
   "source": [
    "# Predicted probabilities\n",
    "pred_proba_ext = clf.predict_proba(X_test)[:, 1]"
   ]
  },
  {
   "cell_type": "code",
   "execution_count": 603,
   "metadata": {},
   "outputs": [],
   "source": [
    "ext_y_pred=y_pred"
   ]
  },
  {
   "cell_type": "markdown",
   "metadata": {},
   "source": [
    "ExtraTreeClassifier has 80% accuracy that's far better than logistic regression."
   ]
  },
  {
   "cell_type": "markdown",
   "metadata": {},
   "source": [
    "#### RandomForest Classifier"
   ]
  },
  {
   "cell_type": "code",
   "execution_count": 604,
   "metadata": {},
   "outputs": [
    {
     "data": {
      "text/plain": [
       "0.9295302013422819"
      ]
     },
     "execution_count": 604,
     "metadata": {},
     "output_type": "execute_result"
    }
   ],
   "source": [
    "from sklearn.ensemble import RandomForestClassifier\n",
    "clf_rf = RandomForestClassifier(n_estimators = 1000,random_state = 55)\n",
    "clf_rf.fit(X_train,y_train)\n",
    "ran_pred = clf_rf.predict(X_test)\n",
    "accuracy_score(y_test,ran_pred)"
   ]
  },
  {
   "cell_type": "code",
   "execution_count": 605,
   "metadata": {},
   "outputs": [],
   "source": [
    "# Predicted probabilities with random forest\n",
    "pred_proba_rf=clf_rf.predict_proba(X_test)[:,1]"
   ]
  },
  {
   "cell_type": "markdown",
   "metadata": {},
   "source": [
    "92% for RandomForest, that's the highest. As we know that random forest or any tree model algorithm is sensitive to imbalanced data. But anyhow we have balanced the data so that's the main reason tree models are having the good amount of accuracy."
   ]
  },
  {
   "cell_type": "markdown",
   "metadata": {},
   "source": [
    "#### eXtreme Gradient Boosting"
   ]
  },
  {
   "cell_type": "code",
   "execution_count": 606,
   "metadata": {},
   "outputs": [],
   "source": [
    "from xgboost import XGBClassifier"
   ]
  },
  {
   "cell_type": "code",
   "execution_count": 608,
   "metadata": {},
   "outputs": [],
   "source": [
    "alg = XGBClassifier(learning_rate = 0.1, n_estimators = 2400, max_depth = 10,\n",
    "                        min_child_weight = 3, gamma = 0.2, subsample = 0.6, colsample_bytree = 1.0,\n",
    "                        objective ='binary:logistic', nthread = 8, scale_pos_weight = 1, seed = 42)"
   ]
  },
  {
   "cell_type": "code",
   "execution_count": 609,
   "metadata": {},
   "outputs": [],
   "source": [
    "alg.fit(X_train,y_train)\n",
    "predictions = alg.predict(X_test)"
   ]
  },
  {
   "cell_type": "code",
   "execution_count": 610,
   "metadata": {},
   "outputs": [
    {
     "data": {
      "text/plain": [
       "0.8825503355704698"
      ]
     },
     "execution_count": 610,
     "metadata": {},
     "output_type": "execute_result"
    }
   ],
   "source": [
    "accuracy_score(y_test,predictions)"
   ]
  },
  {
   "cell_type": "code",
   "execution_count": 611,
   "metadata": {},
   "outputs": [],
   "source": [
    "#predicted probabilities with XGB\n",
    "pred_proba_XGB = alg.predict_proba(X_test)[:, 1]"
   ]
  },
  {
   "cell_type": "markdown",
   "metadata": {},
   "source": [
    "So far, XGB and Randomforest have achieved accuracy with more than 85%"
   ]
  },
  {
   "cell_type": "markdown",
   "metadata": {},
   "source": [
    "#### Calculating the scores"
   ]
  },
  {
   "cell_type": "markdown",
   "metadata": {},
   "source": [
    "In the probem statement it is mentioned that leads are not scored well. So here we are trying to calculate the new scores based on our prediction probabilities. Here I'm using predictions of Randomforest and XGB since they have given good results."
   ]
  },
  {
   "cell_type": "code",
   "execution_count": 612,
   "metadata": {},
   "outputs": [],
   "source": [
    "combined = []\n",
    "for i in range(0,len(ran_pred)):\n",
    "    if(ran_pred[i]==0 or predictions[i]==0):\n",
    "        combined.append(0)\n",
    "    else:\n",
    "        combined.append(1)\n",
    "        "
   ]
  },
  {
   "cell_type": "code",
   "execution_count": 613,
   "metadata": {},
   "outputs": [
    {
     "data": {
      "text/plain": [
       "0.8691275167785235"
      ]
     },
     "execution_count": 613,
     "metadata": {},
     "output_type": "execute_result"
    }
   ],
   "source": [
    "accuracy_score(y_test,combined)"
   ]
  },
  {
   "cell_type": "code",
   "execution_count": 614,
   "metadata": {},
   "outputs": [],
   "source": [
    "#calculating the scores\n",
    "scores  = [(g + h) / 2 for g, h in zip(pred_proba_XGB*100, pred_proba_rf*100)]   #averaging predicted probabilities of two models"
   ]
  },
  {
   "cell_type": "code",
   "execution_count": 615,
   "metadata": {},
   "outputs": [
    {
     "name": "stdout",
     "output_type": "stream",
     "text": [
      "new score values:  [95.35495529174804, 58.95298080444336, 58.282175445556646, 3.0829851627349854, 78.61194534301758, 56.139458084106444, 6.361359977722168, 6.573068594932556, 84.36667861938477, 35.80874748229981, 78.0365966796875, 3.1082485675811764, 10.03859977722168, 91.17500762939453, 11.207907772064209, 90.94542999267577, 2.249361538887024, 33.47110366821289, 68.29357299804687, 2.1268921375274656, 7.91316409111023, 88.51958923339845, 81.20915756225585, 79.65126266479493, 67.90242996215821, 4.273867988586426, 1.381934928894043, 4.9286254167556764, 4.2323898553848265, 92.96936111450195, 87.87876205444337, 89.74364471435547, 10.063876914978028, 7.207222986221313, 86.00576324462891, 6.402870178222656, 55.89826698303223, 1.793226385116577, 4.523583030700683, 44.80239734649658, 3.6078027725219726, 24.13987555503845, 55.44666633605957, 1.1589690327644346, 4.548303031921387, 69.43943710327149, 5.376282835006714, 71.03608474731445, 58.60593872070312, 4.273867988586426, 81.12855072021485, 7.17185275554657, 77.30735244750977, 19.579435443878175, 2.669205392897129, 6.4887247562408445, 16.01585760116577, 90.92850875854492, 93.40421600341797, 50.037881469726564, 92.10937728881837, 81.2051498413086, 2.230423164367676, 87.08341522216796, 83.15886917114258, 86.5226547241211, 1.4974013686180117, 4.853887915611267, 9.06466040611267, 82.6876345316569, 0.6307034850120544, 66.34083480834961, 0.39636436104774475, 92.25783767700196, 82.72673492431642, 1.446657693386078, 93.80501022338868, 8.264014053344727, 25.714537048339842, 15.162426853179932, 2.020678782463074, 44.70914154052735, 58.0648551940918, 8.23793430328369, 63.31756744384765, 88.85530624389648, 39.48820419311524, 78.65121688842774, 75.74526290893556, 69.74371147155762, 0.8712871551513672, 85.84652557373047, 3.521183204650879, 56.2124080657959, 11.192995417118071, 90.27621841430664, 3.6078027725219726, 6.96789059638977, 82.68685073852538, 8.431192064285277, 89.52603683471679, 8.613597011566162, 0.6619868278503418, 18.305115699768066, 88.1094985961914, 1.3468611717224122, 89.4871795654297, 2.4311818361282347, 71.27241821289063, 86.23845062255859, 3.0657392263412477, 53.79594039916992, 23.810820960998534, 56.11562538146973, 50.1224006652832, 5.981497478485107, 33.35282936096191, 85.1049415588379, 27.75764741897583, 76.16087265014649, 28.99169487953186, 79.86647109985351, 0.8712871551513672, 91.24597549438477, 4.700190258026122, 85.1049415588379, 76.46435012817383, 70.94270629882811, 1.0152215600013732, 2.4145227909088134, 26.148844408988953, 1.6455028057098389, 83.52678756713868, 94.14264221191407, 2.8899081707000733, 32.454700922966, 52.53761863708496, 6.4887247562408445, 4.444930839538574, 1.9535598039627076, 88.4516502380371, 8.137084102630615, 8.55238389968872, 76.3992317199707, 87.72603988647461, 83.48332214355469, 77.98404922485352, 17.255159091949466, 89.34496154785157, 1.9535598039627076, 4.415640354156494, 76.69104766845703, 82.96464385986329, 8.431192064285277, 0.4932736486196518, 2.4581807374954225, 4.187684631347656, 89.53043136596679, 77.05658721923828, 62.184871673583984, 51.34255523681641, 76.53963623046874, 89.3127311706543, 1.0791459798812866, 22.409339332580565, 1.5712770283222197, 2.135261058807373, 9.525335502624511, 10.421866989135744, 85.64316253662109, 2.5090699195861816, 91.91510848999023, 2.3727554082870483, 3.3425630807876585, 1.3260775208473206, 19.811755084991454, 6.361359977722168, 6.573068594932556, 91.25253372192383, 86.1599380493164, 75.21574478149414, 81.72380294799805, 78.89713821411132, 90.14305191040039, 4.670362329483032, 23.97648046902248, 90.32315292358399, 19.99056444168091, 3.9026462554931642, 32.95829086303711, 80.97583465576172, 80.04176483154296, 71.18053665161133, 80.32176818847657, 20.351758575439455, 83.47872009277344, 8.23793430328369, 85.01975021362304, 82.17637176513672, 21.40798480510712, 1.3415998756885528, 87.75893173217773, 0.9820880770683289, 79.77486419677734, 71.40495300292969, 94.86234893798829, 1.4637046575546264, 20.52596549987793, 4.876293563842774, 29.239203596115114, 5.276841449737549, 5.069265556335449, 42.93503112792969, 89.89455795288086, 13.669885921478272, 89.09296493530275, 90.39150161743163, 3.4599910497665407, 16.20397605895996, 8.55238389968872, 7.6223431587219235, 24.943552207946777, 41.72068767547607, 9.088282918930053, 2.266814088821411, 23.810820960998534, 79.71187210083008, 7.17185275554657, 0.36917311549186704, 2.353134822845459, 1.3294874429702759, 73.2730567932129, 6.5691622495651245, 80.2641098022461, 3.329918956756592, 66.80283660888672, 2.198853373527527, 70.23695831298828, 87.51671142578125, 88.65498174031575, 11.722623443603515, 1.1107245922088622, 9.06466040611267, 2.4581807374954225, 92.25274276733398, 74.86736450195312, 86.73725051879883, 22.409339332580565, 26.229755878448486, 35.27776279449463, 15.065186309814454, 79.14417343139648, 88.70016098022461, 9.889104509353638, 23.329859733581543, 0.5832771837711335, 0.5832771837711335, 69.56420516967773, 72.9923583984375, 52.58604125976562, 8.55238389968872, 76.5018455505371, 91.86851313273112, 13.539879608154298, 85.5862548828125, 87.66322021484376, 2.82140109539032, 79.2332977294922, 4.206275653839111, 86.71721267700195, 82.91375198364258, 4.548303031921387, 53.51823501586914, 53.0508415222168, 92.644873046875, 88.39062957763672, 1.193891716003418, 4.930546152591705, 69.30832748413086, 82.66536712646484, 5.0754071235656735, 96.86970367431641, 12.23879632949829, 69.0825180053711, 1.3861065626144409, 86.46642684936523, 69.53448791503905, 45.98886013031006, 90.38607406616211, 6.812177610397339, 84.18579864501953, 92.99709091186523, 0.7723498702049255, 84.45271377563478, 2.317360782623291, 2.4145227909088134, 21.167827796936034, 12.710901165008545]\n"
     ]
    }
   ],
   "source": [
    "print('new score values: ',scores)"
   ]
  },
  {
   "cell_type": "markdown",
   "metadata": {},
   "source": [
    "From these newly generated score we can classify highly and low qualified leads."
   ]
  }
 ],
 "metadata": {
  "kernelspec": {
   "display_name": "Python 3",
   "language": "python",
   "name": "python3"
  },
  "language_info": {
   "codemirror_mode": {
    "name": "ipython",
    "version": 3
   },
   "file_extension": ".py",
   "mimetype": "text/x-python",
   "name": "python",
   "nbconvert_exporter": "python",
   "pygments_lexer": "ipython3",
   "version": "3.7.4"
  }
 },
 "nbformat": 4,
 "nbformat_minor": 2
}
